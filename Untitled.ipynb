{
 "cells": [
  {
   "cell_type": "code",
   "execution_count": 1,
   "id": "d30515f3-fb04-4d94-8a48-d0f6ed21639a",
   "metadata": {},
   "outputs": [],
   "source": [
    "import psycopg2\n",
    "import pandas as pd\n",
    "from pyspark.sql import SparkSession\n",
    "from sqlalchemy import create_engine\n",
    "import os\n",
    "from datetime import datetime\n",
    "from pyspark.sql.functions import *"
   ]
  },
  {
   "cell_type": "code",
   "execution_count": 6,
   "id": "d797f2ff-ae3b-4cea-aed5-8c24b9886e3e",
   "metadata": {},
   "outputs": [],
   "source": [
    "engine = create_engine('postgresql://bd:bd@localhost:5432/historical')"
   ]
  },
  {
   "cell_type": "code",
   "execution_count": 11,
   "id": "4219c5e1-9aeb-4d65-83f4-f1317ad206ef",
   "metadata": {},
   "outputs": [
    {
     "data": {
      "text/html": [
       "<div>\n",
       "<style scoped>\n",
       "    .dataframe tbody tr th:only-of-type {\n",
       "        vertical-align: middle;\n",
       "    }\n",
       "\n",
       "    .dataframe tbody tr th {\n",
       "        vertical-align: top;\n",
       "    }\n",
       "\n",
       "    .dataframe thead th {\n",
       "        text-align: right;\n",
       "    }\n",
       "</style>\n",
       "<table border=\"1\" class=\"dataframe\">\n",
       "  <thead>\n",
       "    <tr style=\"text-align: right;\">\n",
       "      <th></th>\n",
       "      <th>trade_time</th>\n",
       "      <th>open_price</th>\n",
       "      <th>max_price</th>\n",
       "      <th>min_price</th>\n",
       "      <th>close_price</th>\n",
       "      <th>total_value_traded_qtt</th>\n",
       "    </tr>\n",
       "  </thead>\n",
       "  <tbody>\n",
       "    <tr>\n",
       "      <th>0</th>\n",
       "      <td>2023-11-24T00:00:00.000000</td>\n",
       "      <td>34.1</td>\n",
       "      <td>37.0</td>\n",
       "      <td>34.0</td>\n",
       "      <td>37.0</td>\n",
       "      <td>800</td>\n",
       "    </tr>\n",
       "    <tr>\n",
       "      <th>1</th>\n",
       "      <td>2023-11-23T00:00:00.000000</td>\n",
       "      <td>36.9</td>\n",
       "      <td>36.9</td>\n",
       "      <td>36.9</td>\n",
       "      <td>36.9</td>\n",
       "      <td>1001</td>\n",
       "    </tr>\n",
       "    <tr>\n",
       "      <th>2</th>\n",
       "      <td>2023-11-22T00:00:00.000000</td>\n",
       "      <td>36.9</td>\n",
       "      <td>36.9</td>\n",
       "      <td>36.9</td>\n",
       "      <td>36.9</td>\n",
       "      <td>100</td>\n",
       "    </tr>\n",
       "    <tr>\n",
       "      <th>3</th>\n",
       "      <td>2023-11-21T00:00:00.000000</td>\n",
       "      <td>34.8</td>\n",
       "      <td>34.8</td>\n",
       "      <td>34.8</td>\n",
       "      <td>34.8</td>\n",
       "      <td>100</td>\n",
       "    </tr>\n",
       "    <tr>\n",
       "      <th>4</th>\n",
       "      <td>2023-11-20T00:00:00.000000</td>\n",
       "      <td>33.5</td>\n",
       "      <td>34.8</td>\n",
       "      <td>33.5</td>\n",
       "      <td>34.8</td>\n",
       "      <td>500</td>\n",
       "    </tr>\n",
       "    <tr>\n",
       "      <th>...</th>\n",
       "      <td>...</td>\n",
       "      <td>...</td>\n",
       "      <td>...</td>\n",
       "      <td>...</td>\n",
       "      <td>...</td>\n",
       "      <td>...</td>\n",
       "    </tr>\n",
       "    <tr>\n",
       "      <th>3225</th>\n",
       "      <td>2010-11-04T00:00:00.000000</td>\n",
       "      <td>25.5</td>\n",
       "      <td>26.0</td>\n",
       "      <td>25.5</td>\n",
       "      <td>25.5</td>\n",
       "      <td>3700</td>\n",
       "    </tr>\n",
       "    <tr>\n",
       "      <th>3226</th>\n",
       "      <td>2010-11-03T00:00:00.000000</td>\n",
       "      <td>28.0</td>\n",
       "      <td>28.0</td>\n",
       "      <td>26.7</td>\n",
       "      <td>27.5</td>\n",
       "      <td>300</td>\n",
       "    </tr>\n",
       "    <tr>\n",
       "      <th>3227</th>\n",
       "      <td>2010-11-02T00:00:00.000000</td>\n",
       "      <td>28.7</td>\n",
       "      <td>28.7</td>\n",
       "      <td>28.7</td>\n",
       "      <td>28.7</td>\n",
       "      <td>0</td>\n",
       "    </tr>\n",
       "    <tr>\n",
       "      <th>3228</th>\n",
       "      <td>2010-11-01T00:00:00.000000</td>\n",
       "      <td>29.0</td>\n",
       "      <td>29.0</td>\n",
       "      <td>28.0</td>\n",
       "      <td>28.0</td>\n",
       "      <td>1100</td>\n",
       "    </tr>\n",
       "    <tr>\n",
       "      <th>3229</th>\n",
       "      <td>2010-10-29T00:00:00.000000</td>\n",
       "      <td>30.0</td>\n",
       "      <td>30.0</td>\n",
       "      <td>27.0</td>\n",
       "      <td>28.0</td>\n",
       "      <td>16800</td>\n",
       "    </tr>\n",
       "  </tbody>\n",
       "</table>\n",
       "<p>3230 rows × 6 columns</p>\n",
       "</div>"
      ],
      "text/plain": [
       "                      trade_time  open_price  max_price  min_price  \\\n",
       "0     2023-11-24T00:00:00.000000        34.1       37.0       34.0   \n",
       "1     2023-11-23T00:00:00.000000        36.9       36.9       36.9   \n",
       "2     2023-11-22T00:00:00.000000        36.9       36.9       36.9   \n",
       "3     2023-11-21T00:00:00.000000        34.8       34.8       34.8   \n",
       "4     2023-11-20T00:00:00.000000        33.5       34.8       33.5   \n",
       "...                          ...         ...        ...        ...   \n",
       "3225  2010-11-04T00:00:00.000000        25.5       26.0       25.5   \n",
       "3226  2010-11-03T00:00:00.000000        28.0       28.0       26.7   \n",
       "3227  2010-11-02T00:00:00.000000        28.7       28.7       28.7   \n",
       "3228  2010-11-01T00:00:00.000000        29.0       29.0       28.0   \n",
       "3229  2010-10-29T00:00:00.000000        30.0       30.0       27.0   \n",
       "\n",
       "      close_price  total_value_traded_qtt  \n",
       "0            37.0                     800  \n",
       "1            36.9                    1001  \n",
       "2            36.9                     100  \n",
       "3            34.8                     100  \n",
       "4            34.8                     500  \n",
       "...           ...                     ...  \n",
       "3225         25.5                    3700  \n",
       "3226         27.5                     300  \n",
       "3227         28.7                       0  \n",
       "3228         28.0                    1100  \n",
       "3229         28.0                   16800  \n",
       "\n",
       "[3230 rows x 6 columns]"
      ]
     },
     "execution_count": 11,
     "metadata": {},
     "output_type": "execute_result"
    }
   ],
   "source": [
    "df = pd.read_csv(\"/home/pm/stock-price-streamlit/data/HAT.csv\")\n",
    "df"
   ]
  },
  {
   "cell_type": "code",
   "execution_count": 12,
   "id": "7d5a87db-77c4-4fbd-ae26-e47f8a1805d2",
   "metadata": {},
   "outputs": [],
   "source": [
    "df['Date'] = pd.to_datetime(df['trade_time'])\n",
    "df = df.drop('trade_time', axis=1)"
   ]
  },
  {
   "cell_type": "code",
   "execution_count": 13,
   "id": "ed876ca8-dd77-4a0e-9e2d-b1871aa7372b",
   "metadata": {},
   "outputs": [],
   "source": [
    "df.rename(columns={'open_price': 'Open', 'max_price': 'Max', 'min_price': 'Min', 'close_price': 'Close', 'total_value_traded_qtt': 'Vol'}, inplace=True)"
   ]
  },
  {
   "cell_type": "code",
   "execution_count": 14,
   "id": "ceb89b01-bb6c-46e3-948e-7a1e3918d27d",
   "metadata": {},
   "outputs": [
    {
     "data": {
      "text/plain": [
       "230"
      ]
     },
     "execution_count": 14,
     "metadata": {},
     "output_type": "execute_result"
    }
   ],
   "source": [
    "df.to_sql('hat', engine, if_exists='append')"
   ]
  },
  {
   "cell_type": "code",
   "execution_count": null,
   "id": "26dee361-7223-4801-9782-477a74d9c66d",
   "metadata": {},
   "outputs": [],
   "source": []
  }
 ],
 "metadata": {
  "kernelspec": {
   "display_name": "Python 3 (ipykernel)",
   "language": "python",
   "name": "python3"
  },
  "language_info": {
   "codemirror_mode": {
    "name": "ipython",
    "version": 3
   },
   "file_extension": ".py",
   "mimetype": "text/x-python",
   "name": "python",
   "nbconvert_exporter": "python",
   "pygments_lexer": "ipython3",
   "version": "3.10.12"
  }
 },
 "nbformat": 4,
 "nbformat_minor": 5
}
