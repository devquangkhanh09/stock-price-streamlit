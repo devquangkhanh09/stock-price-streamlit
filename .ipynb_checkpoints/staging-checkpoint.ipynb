{
 "cells": [
  {
   "cell_type": "code",
   "execution_count": 1,
   "id": "a4e241e1-ab6f-4466-b1fe-20b1bd7fafe9",
   "metadata": {},
   "outputs": [],
   "source": [
    "from pyspark.sql import SparkSession, DataFrame\n",
    "from pyspark.sql.functions import split, length\n",
    "from pyspark.sql.types import StringType\n",
    "from delta import *\n",
    "from datetime import datetime\n",
    "from pyspark.sql.types import *\n",
    "from pyspark.sql.functions import *\n",
    "from pyspark.sql.functions import explode, from_json,size\n",
    "from pyspark.sql.types import *\n",
    "import json\n",
    "from functools import reduce\n",
    "import os\n",
    "from pyspark.sql.avro.functions import from_avro, to_avro\n",
    "from pyspark.sql.functions import year, month, dayofmonth, to_date"
   ]
  },
  {
   "cell_type": "code",
   "execution_count": 2,
   "id": "687ad547-32e7-4377-a81c-d02f160c1e73",
   "metadata": {},
   "outputs": [],
   "source": [
    "os.environ['PYSPARK_SUBMIT_ARGS'] ='''\n",
    "--packages org.apache.spark:spark-sql-kafka-0-10_2.12:3.4.1,org.apache.spark:spark-streaming-kafka-0-10-assembly_2.12:3.4.1,org.apache.spark:spark-avro_2.12:3.4.1,io.delta:delta-core_2.12:2.4.0 --conf spark.sql.session.timeZone=GMT pyspark-shell'''"
   ]
  },
  {
   "cell_type": "code",
   "execution_count": 15,
   "id": "57be1be8-f51d-4694-bf1f-8fa678c3b174",
   "metadata": {},
   "outputs": [],
   "source": [
    "spark_session = SparkSession.builder \\\n",
    "            .appName(\"read_hdfs\") \\\n",
    "            .master(\"local\") \\\n",
    "            .config(\"spark.jars.packages\", \"io.delta:delta-core_2.12:2.4.0\") \\\n",
    "            .config(\"spark.sql.extensions\", \"io.delta.sql.DeltaSparkSessionExtension\") \\\n",
    "            .config(\"spark.sql.catalog.spark_catalog\", \"org.apache.spark.sql.delta.catalog.DeltaCatalog\") \\\n",
    "            .getOrCreate()"
   ]
  },
  {
   "cell_type": "code",
   "execution_count": 16,
   "id": "18d19333-4ad3-481c-ac3f-fb4497cbbd01",
   "metadata": {},
   "outputs": [],
   "source": [
    "binary_to_int = udf(lambda x: int.from_bytes(x, 'big'), IntegerType())"
   ]
  },
  {
   "cell_type": "code",
   "execution_count": 17,
   "id": "4049cf8a-50b6-4d2f-bd41-0dad18c2ca09",
   "metadata": {},
   "outputs": [
    {
     "data": {
      "text/plain": [
       "'{\"type\":\"record\",\"name\":\"Quote\",\"namespace\":\"Quote\",\"fields\":[{\"name\":\"symbol\",\"type\":\"string\"},{\"name\":\"exchange_name\",\"type\":\"string\"},{\"name\":\"trade_time\",\"type\":{\"type\":\"long\",\"logicalType\":\"timestamp-micros\"}},{\"name\":\"ref_price\",\"type\":[\"null\",\"double\"],\"default\":null},{\"name\":\"ceil_price\",\"type\":[\"null\",\"double\"],\"default\":null},{\"name\":\"floor_price\",\"type\":[\"null\",\"double\"],\"default\":null},{\"name\":\"b_qtty_3\",\"type\":[\"null\",\"double\"],\"default\":null},{\"name\":\"b_price_3\",\"type\":[\"null\",\"double\"],\"default\":null},{\"name\":\"b_qtty_2\",\"type\":[\"null\",\"double\"],\"default\":null},{\"name\":\"b_price_2\",\"type\":[\"null\",\"double\"],\"default\":null},{\"name\":\"b_qtty_1\",\"type\":[\"null\",\"double\"],\"default\":null},{\"name\":\"b_price_1\",\"type\":[\"null\",\"double\"],\"default\":null},{\"name\":\"pct_change\",\"type\":[\"null\",\"double\"],\"default\":null},{\"name\":\"last_price\",\"type\":[\"null\",\"double\"],\"default\":null},{\"name\":\"last_qtty\",\"type\":[\"null\",\"double\"],\"default\":null},{\"name\":\"traded_quantity\",\"type\":[\"null\",\"double\"],\"default\":null},{\"name\":\"total_value_traded_qtt\",\"type\":[\"null\",\"double\"],\"default\":null},{\"name\":\"s_qtty_3\",\"type\":[\"null\",\"double\"],\"default\":null},{\"name\":\"s_price_3\",\"type\":[\"null\",\"double\"],\"default\":null},{\"name\":\"s_qtty_2\",\"type\":[\"null\",\"double\"],\"default\":null},{\"name\":\"s_price_2\",\"type\":[\"null\",\"double\"],\"default\":null},{\"name\":\"s_qtty_1\",\"type\":[\"null\",\"double\"],\"default\":null},{\"name\":\"s_price_1\",\"type\":[\"null\",\"double\"],\"default\":null},{\"name\":\"open_price\",\"type\":[\"null\",\"double\"],\"default\":null},{\"name\":\"mid_px\",\"type\":[\"null\",\"double\"],\"default\":null},{\"name\":\"max_price\",\"type\":[\"null\",\"double\"],\"default\":null},{\"name\":\"min_price\",\"type\":[\"null\",\"double\"],\"default\":null},{\"name\":\"foreign_buy\",\"type\":[\"null\",\"double\"],\"default\":null},{\"name\":\"foreign_sell\",\"type\":[\"null\",\"double\"],\"default\":null},{\"name\":\"close_price\",\"type\":[\"null\",\"double\"],\"default\":null}]}'"
      ]
     },
     "execution_count": 17,
     "metadata": {},
     "output_type": "execute_result"
    }
   ],
   "source": [
    "from confluent_kafka.schema_registry import SchemaRegistryClient\n",
    "def get_schema_from_id(id: int):\n",
    "    url = \"http://localhost:8081\"\n",
    "    try:\n",
    "        sr = SchemaRegistryClient({'url': url})\n",
    "        version = sr.get_schema(id)\n",
    "        return version.schema_str\n",
    "    except Exception as e:\n",
    "        raise e\n",
    "schema = get_schema_from_id(1)\n",
    "schema"
   ]
  },
  {
   "cell_type": "code",
   "execution_count": 18,
   "id": "15a6bda6-16d0-4416-9220-195b2cb32217",
   "metadata": {},
   "outputs": [],
   "source": [
    "spark_session.conf.set(\"spark.sql.session.timeZone\", \"UTC+7\")"
   ]
  },
  {
   "cell_type": "code",
   "execution_count": 20,
   "id": "7c596813-d7c3-424d-b0e5-de4c665601cd",
   "metadata": {},
   "outputs": [
    {
     "name": "stderr",
     "output_type": "stream",
     "text": [
      "23/11/25 19:08:10 WARN ResolveWriteToStream: spark.sql.adaptive.enabled is not supported in streaming DataFrames/Datasets and will be disabled.\n",
      "23/11/25 19:08:11 WARN AdminClientConfig: These configurations '[key.deserializer, value.deserializer, enable.auto.commit, max.poll.records, auto.offset.reset]' were supplied but are not used yet.\n",
      "[Stage 1:>                                                          (0 + 1) / 1]\r"
     ]
    }
   ],
   "source": [
    "\n",
    "df = spark_session\\\n",
    "        .readStream\\\n",
    "        .format(\"kafka\")\\\n",
    "        .option(\"minPartitions\", 1) \\\n",
    "        .option(\"startingOffsets\", \"earliest\") \\\n",
    "        .option(\"kafka.bootstrap.servers\", \"localhost:9092\")\\\n",
    "        .option(\"failOnDataLoss\", False)\\\n",
    "        .option(\"subscribe\", \"stock\")\\\n",
    "        .load() \\\n",
    "        .withColumn('fixedValue', expr(\"substring(value, 6, length(value)-5)\")) \\\n",
    "        .select(col(\"fixedValue\")) \\\n",
    "        .withColumn(\"res\", from_avro(col(\"fixedValue\"), schema, {\"datetimeRebaseMode\": \"CORRECTED\", \"mode\": \"PERMISSIVE\"})) \\\n",
    "        .select('res.*') \\\n",
    "        .withColumn(\"timestamp\", to_timestamp(col(\"trade_time\"), 'yyyyMMddHHmm')) \\\n",
    "        .withColumn(\"year\", date_format(col(\"timestamp\"), \"yyyy\")) \\\n",
    "        .withColumn(\"month\", date_format(col(\"timestamp\"), \"MM\")) \\\n",
    "        .withColumn(\"day\", date_format(col(\"timestamp\"), \"dd\")) \\\n",
    "        .withColumn(\"hour\", date_format(col(\"timestamp\"), \"HH\")) \\\n",
    "        .drop(\"timestamp\") \\\n",
    "        .writeStream \\\n",
    "        .format(\"delta\") \\\n",
    "        .partitionBy(\"symbol\",\"year\", \"month\", \"day\") \\\n",
    "        .option('checkpointLocation',\"/delta/stock1/_checkpoints/\") \\\n",
    "        .start(\"/delta/stock1\")"
   ]
  },
  {
   "cell_type": "code",
   "execution_count": 9,
   "id": "16152d8e-c5c9-487d-8913-d36e17717554",
   "metadata": {},
   "outputs": [],
   "source": [
    "spark_session.stop()"
   ]
  },
  {
   "cell_type": "code",
   "execution_count": null,
   "id": "72fe1ac9-cbe7-435d-aaae-802964b72d34",
   "metadata": {},
   "outputs": [],
   "source": []
  }
 ],
 "metadata": {
  "kernelspec": {
   "display_name": "Python 3 (ipykernel)",
   "language": "python",
   "name": "python3"
  },
  "language_info": {
   "codemirror_mode": {
    "name": "ipython",
    "version": 3
   },
   "file_extension": ".py",
   "mimetype": "text/x-python",
   "name": "python",
   "nbconvert_exporter": "python",
   "pygments_lexer": "ipython3",
   "version": "3.10.12"
  }
 },
 "nbformat": 4,
 "nbformat_minor": 5
}
