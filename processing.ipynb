{
 "cells": [
  {
   "cell_type": "code",
   "execution_count": 1,
   "id": "9fba9102-9447-49be-92cf-f3170b7c029f",
   "metadata": {},
   "outputs": [],
   "source": [
    "import psycopg2\n",
    "import pandas as pd\n",
    "from pyspark.sql import SparkSession\n",
    "from sqlalchemy import create_engine\n",
    "import os\n",
    "from datetime import datetime"
   ]
  },
  {
   "cell_type": "code",
   "execution_count": 2,
   "id": "0096177d-88ca-4656-88b9-d400c108c8fb",
   "metadata": {},
   "outputs": [],
   "source": [
    "os.environ['PYSPARK_SUBMIT_ARGS'] ='''--packages io.delta:delta-core_2.12:2.4.0 pyspark-shell'''"
   ]
  },
  {
   "cell_type": "code",
   "execution_count": 3,
   "id": "7191acf4-4fdf-4dd2-9706-f9fcece6c2de",
   "metadata": {},
   "outputs": [
    {
     "name": "stderr",
     "output_type": "stream",
     "text": [
      "23/12/15 12:46:18 WARN Utils: Your hostname, pm-GL65-Leopard-10SCXK resolves to a loopback address: 127.0.1.1; using 192.168.103.92 instead (on interface wlo1)\n",
      "23/12/15 12:46:18 WARN Utils: Set SPARK_LOCAL_IP if you need to bind to another address\n"
     ]
    },
    {
     "name": "stdout",
     "output_type": "stream",
     "text": [
      ":: loading settings :: url = jar:file:/home/pm/Downloads/spark-3.4.1-bin-hadoop3/jars/ivy-2.5.1.jar!/org/apache/ivy/core/settings/ivysettings.xml\n"
     ]
    },
    {
     "name": "stderr",
     "output_type": "stream",
     "text": [
      "Ivy Default Cache set to: /home/pm/.ivy2/cache\n",
      "The jars for the packages stored in: /home/pm/.ivy2/jars\n",
      "io.delta#delta-core_2.12 added as a dependency\n",
      ":: resolving dependencies :: org.apache.spark#spark-submit-parent-28567e07-90fd-4518-abce-bd4ec481b88d;1.0\n",
      "\tconfs: [default]\n",
      "\tfound io.delta#delta-core_2.12;2.4.0 in central\n",
      "\tfound io.delta#delta-storage;2.4.0 in central\n",
      "\tfound org.antlr#antlr4-runtime;4.9.3 in central\n",
      ":: resolution report :: resolve 180ms :: artifacts dl 5ms\n",
      "\t:: modules in use:\n",
      "\tio.delta#delta-core_2.12;2.4.0 from central in [default]\n",
      "\tio.delta#delta-storage;2.4.0 from central in [default]\n",
      "\torg.antlr#antlr4-runtime;4.9.3 from central in [default]\n",
      "\t---------------------------------------------------------------------\n",
      "\t|                  |            modules            ||   artifacts   |\n",
      "\t|       conf       | number| search|dwnlded|evicted|| number|dwnlded|\n",
      "\t---------------------------------------------------------------------\n",
      "\t|      default     |   3   |   0   |   0   |   0   ||   3   |   0   |\n",
      "\t---------------------------------------------------------------------\n",
      ":: retrieving :: org.apache.spark#spark-submit-parent-28567e07-90fd-4518-abce-bd4ec481b88d\n",
      "\tconfs: [default]\n",
      "\t0 artifacts copied, 3 already retrieved (0kB/5ms)\n",
      "23/12/15 12:46:34 WARN NativeCodeLoader: Unable to load native-hadoop library for your platform... using builtin-java classes where applicable\n",
      "Setting default log level to \"WARN\".\n",
      "To adjust logging level use sc.setLogLevel(newLevel). For SparkR, use setLogLevel(newLevel).\n"
     ]
    }
   ],
   "source": [
    "spark_session = SparkSession.builder \\\n",
    "            .appName(\"read_hdfs\") \\\n",
    "            .master(\"local\") \\\n",
    "            .config(\"spark.jars.packages\", \"io.delta:delta-core_2.12:2.4.0\") \\\n",
    "            .config(\"spark.sql.extensions\", \"io.delta.sql.DeltaSparkSessionExtension\") \\\n",
    "            .config(\"spark.sql.catalog.spark_catalog\", \"org.apache.spark.sql.delta.catalog.DeltaCatalog\") \\\n",
    "            .getOrCreate()\n",
    "spark_session.conf.set(\"spark.sql.session.timeZone\", \"UTC+7\")"
   ]
  },
  {
   "cell_type": "code",
   "execution_count": 8,
   "id": "2e9f53bd-f0d4-4ae4-81f7-ed55eb640c1f",
   "metadata": {},
   "outputs": [
    {
     "name": "stdout",
     "output_type": "stream",
     "text": [
      "+-------------+--------------------+---------+----------+-----------+--------+---------+--------+---------+--------+---------+----------+----------+---------+---------------+----------------------+--------+---------+--------+---------+--------+---------+----------+------+---------+---------+-----------+------------+-----------+\n",
      "|exchange_name|          trade_time|ref_price|ceil_price|floor_price|b_qtty_3|b_price_3|b_qtty_2|b_price_2|b_qtty_1|b_price_1|pct_change|last_price|last_qtty|traded_quantity|total_value_traded_qtt|s_qtty_3|s_price_3|s_qtty_2|s_price_2|s_qtty_1|s_price_1|open_price|mid_px|max_price|min_price|foreign_buy|foreign_sell|close_price|\n",
      "+-------------+--------------------+---------+----------+-----------+--------+---------+--------+---------+--------+---------+----------+----------+---------+---------------+----------------------+--------+---------+--------+---------+--------+---------+----------+------+---------+---------+-----------+------------+-----------+\n",
      "|          HNX|2023-12-15 12:45:...|     32.7|      37.6|       27.8|     0.4|     29.0|     0.5|     29.5|     1.0|     29.6|      null|      null|     null|           null|                  null|     0.1|     37.6|     0.8|     34.0|     0.3|     32.6|      null|  null|     null|     null|       null|        null|       null|\n",
      "|          HNX|2023-12-15 12:50:...|     32.7|      37.6|       27.8|     0.4|     29.0|     0.5|     29.5|     1.0|     29.6|      null|      null|     null|           null|                  null|     0.1|     37.6|     0.8|     34.0|     0.3|     32.6|      null|  null|     null|     null|       null|        null|       null|\n",
      "+-------------+--------------------+---------+----------+-----------+--------+---------+--------+---------+--------+---------+----------+----------+---------+---------------+----------------------+--------+---------+--------+---------+--------+---------+----------+------+---------+---------+-----------+------------+-----------+\n",
      "\n"
     ]
    }
   ],
   "source": [
    "df = spark_session.read.load(\"hdfs://localhost:9000/delta/stock2/symbol=A32/year=2023/month=12/day=15\")\n",
    "df.show()"
   ]
  },
  {
   "cell_type": "code",
   "execution_count": 8,
   "id": "7d379961-76f9-40d4-8827-0288dca3ab7d",
   "metadata": {},
   "outputs": [],
   "source": [
    "spark_session.stop()"
   ]
  }
 ],
 "metadata": {
  "kernelspec": {
   "display_name": "Python 3 (ipykernel)",
   "language": "python",
   "name": "python3"
  },
  "language_info": {
   "codemirror_mode": {
    "name": "ipython",
    "version": 3
   },
   "file_extension": ".py",
   "mimetype": "text/x-python",
   "name": "python",
   "nbconvert_exporter": "python",
   "pygments_lexer": "ipython3",
   "version": "3.10.12"
  }
 },
 "nbformat": 4,
 "nbformat_minor": 5
}
