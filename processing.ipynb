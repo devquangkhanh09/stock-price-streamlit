{
 "cells": [
  {
   "cell_type": "code",
   "execution_count": 2,
   "id": "9fba9102-9447-49be-92cf-f3170b7c029f",
   "metadata": {},
   "outputs": [],
   "source": [
    "import psycopg2\n",
    "import pandas as pd\n",
    "from pyspark.sql import SparkSession\n",
    "from sqlalchemy import create_engine\n",
    "import os\n",
    "from datetime import datetime"
   ]
  },
  {
   "cell_type": "code",
   "execution_count": 3,
   "id": "0096177d-88ca-4656-88b9-d400c108c8fb",
   "metadata": {},
   "outputs": [],
   "source": [
    "os.environ['PYSPARK_SUBMIT_ARGS'] ='''\n",
    "--packages org.apache.spark:spark-sql-kafka-0-10_2.12:3.4.1,org.apache.spark:spark-streaming-kafka-0-10-assembly_2.12:3.4.1,org.apache.spark:spark-avro_2.12:3.4.1,io.delta:delta-core_2.12:2.4.0 --conf spark.sql.session.timeZone=GMT pyspark-shell'''"
   ]
  },
  {
   "cell_type": "code",
   "execution_count": 4,
   "id": "7191acf4-4fdf-4dd2-9706-f9fcece6c2de",
   "metadata": {},
   "outputs": [
    {
     "name": "stderr",
     "output_type": "stream",
     "text": [
      "23/11/25 23:03:24 WARN Utils: Your hostname, pm-GL65-Leopard-10SCXK resolves to a loopback address: 127.0.1.1; using 192.168.31.92 instead (on interface wlo1)\n",
      "23/11/25 23:03:24 WARN Utils: Set SPARK_LOCAL_IP if you need to bind to another address\n"
     ]
    },
    {
     "name": "stdout",
     "output_type": "stream",
     "text": [
      ":: loading settings :: url = jar:file:/home/pm/Downloads/spark-3.4.1-bin-hadoop3/jars/ivy-2.5.1.jar!/org/apache/ivy/core/settings/ivysettings.xml\n"
     ]
    },
    {
     "name": "stderr",
     "output_type": "stream",
     "text": [
      "Ivy Default Cache set to: /home/pm/.ivy2/cache\n",
      "The jars for the packages stored in: /home/pm/.ivy2/jars\n",
      "org.apache.spark#spark-sql-kafka-0-10_2.12 added as a dependency\n",
      "org.apache.spark#spark-streaming-kafka-0-10-assembly_2.12 added as a dependency\n",
      "org.apache.spark#spark-avro_2.12 added as a dependency\n",
      "io.delta#delta-core_2.12 added as a dependency\n",
      ":: resolving dependencies :: org.apache.spark#spark-submit-parent-d920e67f-b326-451a-8aac-15c55d8be9f9;1.0\n",
      "\tconfs: [default]\n",
      "\tfound org.apache.spark#spark-sql-kafka-0-10_2.12;3.4.1 in central\n",
      "\tfound org.apache.spark#spark-token-provider-kafka-0-10_2.12;3.4.1 in central\n",
      "\tfound org.apache.kafka#kafka-clients;3.3.2 in central\n",
      "\tfound org.lz4#lz4-java;1.8.0 in central\n",
      "\tfound org.xerial.snappy#snappy-java;1.1.10.1 in central\n",
      "\tfound org.slf4j#slf4j-api;2.0.6 in central\n",
      "\tfound org.apache.hadoop#hadoop-client-runtime;3.3.4 in central\n",
      "\tfound org.apache.hadoop#hadoop-client-api;3.3.4 in central\n",
      "\tfound commons-logging#commons-logging;1.1.3 in local-m2-cache\n",
      "\tfound com.google.code.findbugs#jsr305;3.0.0 in central\n",
      "\tfound org.apache.commons#commons-pool2;2.11.1 in central\n",
      "\tfound org.apache.spark#spark-streaming-kafka-0-10-assembly_2.12;3.4.1 in central\n",
      "\tfound org.apache.spark#spark-avro_2.12;3.4.1 in central\n",
      "\tfound org.tukaani#xz;1.9 in local-m2-cache\n",
      "\tfound io.delta#delta-core_2.12;2.4.0 in central\n",
      "\tfound io.delta#delta-storage;2.4.0 in central\n",
      "\tfound org.antlr#antlr4-runtime;4.9.3 in central\n",
      ":: resolution report :: resolve 376ms :: artifacts dl 19ms\n",
      "\t:: modules in use:\n",
      "\tcom.google.code.findbugs#jsr305;3.0.0 from central in [default]\n",
      "\tcommons-logging#commons-logging;1.1.3 from local-m2-cache in [default]\n",
      "\tio.delta#delta-core_2.12;2.4.0 from central in [default]\n",
      "\tio.delta#delta-storage;2.4.0 from central in [default]\n",
      "\torg.antlr#antlr4-runtime;4.9.3 from central in [default]\n",
      "\torg.apache.commons#commons-pool2;2.11.1 from central in [default]\n",
      "\torg.apache.hadoop#hadoop-client-api;3.3.4 from central in [default]\n",
      "\torg.apache.hadoop#hadoop-client-runtime;3.3.4 from central in [default]\n",
      "\torg.apache.kafka#kafka-clients;3.3.2 from central in [default]\n",
      "\torg.apache.spark#spark-avro_2.12;3.4.1 from central in [default]\n",
      "\torg.apache.spark#spark-sql-kafka-0-10_2.12;3.4.1 from central in [default]\n",
      "\torg.apache.spark#spark-streaming-kafka-0-10-assembly_2.12;3.4.1 from central in [default]\n",
      "\torg.apache.spark#spark-token-provider-kafka-0-10_2.12;3.4.1 from central in [default]\n",
      "\torg.lz4#lz4-java;1.8.0 from central in [default]\n",
      "\torg.slf4j#slf4j-api;2.0.6 from central in [default]\n",
      "\torg.tukaani#xz;1.9 from local-m2-cache in [default]\n",
      "\torg.xerial.snappy#snappy-java;1.1.10.1 from central in [default]\n",
      "\t---------------------------------------------------------------------\n",
      "\t|                  |            modules            ||   artifacts   |\n",
      "\t|       conf       | number| search|dwnlded|evicted|| number|dwnlded|\n",
      "\t---------------------------------------------------------------------\n",
      "\t|      default     |   17  |   0   |   0   |   0   ||   17  |   0   |\n",
      "\t---------------------------------------------------------------------\n",
      ":: retrieving :: org.apache.spark#spark-submit-parent-d920e67f-b326-451a-8aac-15c55d8be9f9\n",
      "\tconfs: [default]\n",
      "\t0 artifacts copied, 17 already retrieved (0kB/11ms)\n",
      "23/11/25 23:03:41 WARN NativeCodeLoader: Unable to load native-hadoop library for your platform... using builtin-java classes where applicable\n",
      "Setting default log level to \"WARN\".\n",
      "To adjust logging level use sc.setLogLevel(newLevel). For SparkR, use setLogLevel(newLevel).\n"
     ]
    }
   ],
   "source": [
    "spark_session = SparkSession.builder \\\n",
    "            .appName(\"read_hdfs\") \\\n",
    "            .master(\"local\") \\\n",
    "            .config(\"spark.jars.packages\", \"io.delta:delta-core_2.12:2.4.0\") \\\n",
    "            .config(\"spark.sql.extensions\", \"io.delta.sql.DeltaSparkSessionExtension\") \\\n",
    "            .config(\"spark.sql.catalog.spark_catalog\", \"org.apache.spark.sql.delta.catalog.DeltaCatalog\") \\\n",
    "            .getOrCreate()"
   ]
  },
  {
   "cell_type": "code",
   "execution_count": 5,
   "id": "52137f2a-bc0b-4058-b308-ba728f0d6946",
   "metadata": {},
   "outputs": [],
   "source": [
    "engine = create_engine(\"postgresql+psycopg2://bd:bd@localhost/stock?client_encoding=utf8\")"
   ]
  },
  {
   "cell_type": "code",
   "execution_count": 6,
   "id": "f1dd0ee6-9ae5-4f47-a132-37a5a9f6190d",
   "metadata": {},
   "outputs": [],
   "source": [
    "year, month, day = datetime.now().year, datetime.now().month, datetime.now().day"
   ]
  },
  {
   "cell_type": "code",
   "execution_count": 7,
   "id": "f16fd097-86f8-4abf-a9de-0ffa63afe62b",
   "metadata": {},
   "outputs": [],
   "source": [
    "spark_session.conf.set(\"spark.sql.streaming.schemaInference\", True)\n"
   ]
  },
  {
   "cell_type": "code",
   "execution_count": 41,
   "id": "cdc1ffad-92ee-4805-bd9b-4db36dce880b",
   "metadata": {},
   "outputs": [],
   "source": [
    "def get_connection():\n",
    "   try:\n",
    "       return psycopg2.connect(\n",
    "           database=\"historical\",\n",
    "           user=\"bd\",\n",
    "           password=\"bd\",\n",
    "           host=\"localhost\",\n",
    "           port=5432,\n",
    "       )\n",
    "   except:\n",
    "       return False\n",
    "\n",
    "conn = get_connection()"
   ]
  },
  {
   "cell_type": "code",
   "execution_count": 42,
   "id": "6ec9694e-4d3e-498e-a8e6-c52c4b6b6b33",
   "metadata": {},
   "outputs": [
    {
     "ename": "UndefinedTable",
     "evalue": "relation \"hnx30\" does not exist\nLINE 1: SELECT * FROM HNX30;\n                      ^\n",
     "output_type": "error",
     "traceback": [
      "\u001b[0;31m---------------------------------------------------------------------------\u001b[0m",
      "\u001b[0;31mUndefinedTable\u001b[0m                            Traceback (most recent call last)",
      "Cell \u001b[0;32mIn[42], line 2\u001b[0m\n\u001b[1;32m      1\u001b[0m curr \u001b[38;5;241m=\u001b[39m conn\u001b[38;5;241m.\u001b[39mcursor()\n\u001b[0;32m----> 2\u001b[0m \u001b[43mcurr\u001b[49m\u001b[38;5;241;43m.\u001b[39;49m\u001b[43mexecute\u001b[49m\u001b[43m(\u001b[49m\u001b[38;5;124;43m\"\u001b[39;49m\u001b[38;5;124;43mSELECT * FROM HNX30;\u001b[39;49m\u001b[38;5;124;43m\"\u001b[39;49m\u001b[43m)\u001b[49m\n\u001b[1;32m      3\u001b[0m data \u001b[38;5;241m=\u001b[39m curr\u001b[38;5;241m.\u001b[39mfetchall()\n\u001b[1;32m      4\u001b[0m data\n",
      "\u001b[0;31mUndefinedTable\u001b[0m: relation \"hnx30\" does not exist\nLINE 1: SELECT * FROM HNX30;\n                      ^\n"
     ]
    }
   ],
   "source": [
    "curr = conn.cursor()\n",
    "curr.execute(\"SELECT * FROM HNX30;\")\n",
    "data = curr.fetchall()\n",
    "data"
   ]
  },
  {
   "cell_type": "code",
   "execution_count": 24,
   "id": "7d379961-76f9-40d4-8827-0288dca3ab7d",
   "metadata": {},
   "outputs": [],
   "source": [
    "df = spark_session.read.load(\"hdfs://localhost:9000/delta/stock1/symbol=BNA/year=2023/month=09/day=27\")"
   ]
  },
  {
   "cell_type": "code",
   "execution_count": 25,
   "id": "9545fe21-8c24-42ce-907e-1244a17ea18c",
   "metadata": {},
   "outputs": [
    {
     "name": "stdout",
     "output_type": "stream",
     "text": [
      "<class 'pyspark.sql.dataframe.DataFrame'>\n"
     ]
    }
   ],
   "source": [
    "print(type(df))"
   ]
  },
  {
   "cell_type": "code",
   "execution_count": 26,
   "id": "171d0f01-05bf-4bd4-8760-6f9ace90029d",
   "metadata": {},
   "outputs": [
    {
     "name": "stdout",
     "output_type": "stream",
     "text": [
      "+-------------+-------------------+---------+----------+-----------+--------+---------+--------+---------+--------+---------+----------+----------+---------+---------------+----------------------+--------+---------+--------+---------+--------+---------+----------+------+---------+---------+-----------+------------+-----------+----+\n",
      "|exchange_name|         trade_time|ref_price|ceil_price|floor_price|b_qtty_3|b_price_3|b_qtty_2|b_price_2|b_qtty_1|b_price_1|pct_change|last_price|last_qtty|traded_quantity|total_value_traded_qtt|s_qtty_3|s_price_3|s_qtty_2|s_price_2|s_qtty_1|s_price_1|open_price|mid_px|max_price|min_price|foreign_buy|foreign_sell|close_price|hour|\n",
      "+-------------+-------------------+---------+----------+-----------+--------+---------+--------+---------+--------+---------+----------+----------+---------+---------------+----------------------+--------+---------+--------+---------+--------+---------+----------+------+---------+---------+-----------+------------+-----------+----+\n",
      "| Listed stock|2023-09-27 09:30:00|     12.0|      13.2|       10.8|     6.1|     11.6|     8.7|     11.7|     5.3|     11.8|      -0.1|      11.9|      6.6|          122.0|             1428350.0|     2.8|     12.2|    17.3|     12.0|     3.9|     11.9|      12.1|  11.7|     12.1|     11.4|       null|        null|       11.9|  16|\n",
      "| Listed stock|2023-09-27 09:30:00|     12.0|      13.2|       10.8|     6.1|     11.6|     8.7|     11.7|     5.3|     11.8|      -0.1|      11.9|      6.6|          122.0|             1428350.0|     2.8|     12.2|    17.3|     12.0|     3.9|     11.9|      12.1|  11.7|     12.1|     11.4|       null|        null|       11.9|  16|\n",
      "+-------------+-------------------+---------+----------+-----------+--------+---------+--------+---------+--------+---------+----------+----------+---------+---------------+----------------------+--------+---------+--------+---------+--------+---------+----------+------+---------+---------+-----------+------------+-----------+----+\n",
      "\n"
     ]
    }
   ],
   "source": [
    "df.show()"
   ]
  },
  {
   "cell_type": "code",
   "execution_count": 27,
   "id": "fa1750ba-bbf5-4db6-8819-8a6f850def0b",
   "metadata": {},
   "outputs": [],
   "source": [
    "import pandas as pd"
   ]
  },
  {
   "cell_type": "code",
   "execution_count": 46,
   "id": "3f0263cc-335a-4fcc-8c2f-9c0dd16cbee8",
   "metadata": {},
   "outputs": [],
   "source": [
    "df = pd.read_csv(\"/home/pm/stock-price-streamlit/data/VN30.csv\")"
   ]
  },
  {
   "cell_type": "code",
   "execution_count": 47,
   "id": "903e5a40-f3bc-426f-a2a6-93a133ca3fe0",
   "metadata": {},
   "outputs": [
    {
     "data": {
      "text/html": [
       "<div>\n",
       "<style scoped>\n",
       "    .dataframe tbody tr th:only-of-type {\n",
       "        vertical-align: middle;\n",
       "    }\n",
       "\n",
       "    .dataframe tbody tr th {\n",
       "        vertical-align: top;\n",
       "    }\n",
       "\n",
       "    .dataframe thead th {\n",
       "        text-align: right;\n",
       "    }\n",
       "</style>\n",
       "<table border=\"1\" class=\"dataframe\">\n",
       "  <thead>\n",
       "    <tr style=\"text-align: right;\">\n",
       "      <th></th>\n",
       "      <th>Date</th>\n",
       "      <th>Price</th>\n",
       "      <th>Open</th>\n",
       "      <th>High</th>\n",
       "      <th>Low</th>\n",
       "      <th>Vol.</th>\n",
       "      <th>Change %</th>\n",
       "    </tr>\n",
       "  </thead>\n",
       "  <tbody>\n",
       "    <tr>\n",
       "      <th>0</th>\n",
       "      <td>11/24/2023</td>\n",
       "      <td>1,087.34</td>\n",
       "      <td>1,085.26</td>\n",
       "      <td>1,087.34</td>\n",
       "      <td>1,068.59</td>\n",
       "      <td>188.23K</td>\n",
       "      <td>0.43%</td>\n",
       "    </tr>\n",
       "    <tr>\n",
       "      <th>1</th>\n",
       "      <td>11/23/2023</td>\n",
       "      <td>1,082.68</td>\n",
       "      <td>1,111.93</td>\n",
       "      <td>1,114.87</td>\n",
       "      <td>1,082.68</td>\n",
       "      <td>170.08K</td>\n",
       "      <td>-2.44%</td>\n",
       "    </tr>\n",
       "    <tr>\n",
       "      <th>2</th>\n",
       "      <td>11/22/2023</td>\n",
       "      <td>1,109.80</td>\n",
       "      <td>1,109.31</td>\n",
       "      <td>1,112.98</td>\n",
       "      <td>1,098.21</td>\n",
       "      <td>152.39K</td>\n",
       "      <td>0.11%</td>\n",
       "    </tr>\n",
       "    <tr>\n",
       "      <th>3</th>\n",
       "      <td>11/21/2023</td>\n",
       "      <td>1,108.60</td>\n",
       "      <td>1,103.60</td>\n",
       "      <td>1,113.69</td>\n",
       "      <td>1,102.33</td>\n",
       "      <td>128.42K</td>\n",
       "      <td>0.52%</td>\n",
       "    </tr>\n",
       "    <tr>\n",
       "      <th>4</th>\n",
       "      <td>11/20/2023</td>\n",
       "      <td>1,102.85</td>\n",
       "      <td>1,091.66</td>\n",
       "      <td>1,114.63</td>\n",
       "      <td>1,085.74</td>\n",
       "      <td>172.46K</td>\n",
       "      <td>-0.06%</td>\n",
       "    </tr>\n",
       "    <tr>\n",
       "      <th>...</th>\n",
       "      <td>...</td>\n",
       "      <td>...</td>\n",
       "      <td>...</td>\n",
       "      <td>...</td>\n",
       "      <td>...</td>\n",
       "      <td>...</td>\n",
       "      <td>...</td>\n",
       "    </tr>\n",
       "    <tr>\n",
       "      <th>2715</th>\n",
       "      <td>01/08/2013</td>\n",
       "      <td>525.36</td>\n",
       "      <td>512.41</td>\n",
       "      <td>525.36</td>\n",
       "      <td>511.64</td>\n",
       "      <td>32.89K</td>\n",
       "      <td>3.18%</td>\n",
       "    </tr>\n",
       "    <tr>\n",
       "      <th>2716</th>\n",
       "      <td>01/07/2013</td>\n",
       "      <td>509.18</td>\n",
       "      <td>500.58</td>\n",
       "      <td>509.61</td>\n",
       "      <td>498.54</td>\n",
       "      <td>26.03K</td>\n",
       "      <td>2.18%</td>\n",
       "    </tr>\n",
       "    <tr>\n",
       "      <th>2717</th>\n",
       "      <td>01/04/2013</td>\n",
       "      <td>498.31</td>\n",
       "      <td>489.71</td>\n",
       "      <td>499.85</td>\n",
       "      <td>487.95</td>\n",
       "      <td>20.15K</td>\n",
       "      <td>1.42%</td>\n",
       "    </tr>\n",
       "    <tr>\n",
       "      <th>2718</th>\n",
       "      <td>01/03/2013</td>\n",
       "      <td>491.34</td>\n",
       "      <td>492.55</td>\n",
       "      <td>492.55</td>\n",
       "      <td>483.84</td>\n",
       "      <td>32.69K</td>\n",
       "      <td>0.11%</td>\n",
       "    </tr>\n",
       "    <tr>\n",
       "      <th>2719</th>\n",
       "      <td>01/02/2013</td>\n",
       "      <td>490.82</td>\n",
       "      <td>486.41</td>\n",
       "      <td>492.29</td>\n",
       "      <td>485.37</td>\n",
       "      <td>22.64K</td>\n",
       "      <td>1.12%</td>\n",
       "    </tr>\n",
       "  </tbody>\n",
       "</table>\n",
       "<p>2720 rows × 7 columns</p>\n",
       "</div>"
      ],
      "text/plain": [
       "            Date     Price      Open      High       Low     Vol. Change %\n",
       "0     11/24/2023  1,087.34  1,085.26  1,087.34  1,068.59  188.23K    0.43%\n",
       "1     11/23/2023  1,082.68  1,111.93  1,114.87  1,082.68  170.08K   -2.44%\n",
       "2     11/22/2023  1,109.80  1,109.31  1,112.98  1,098.21  152.39K    0.11%\n",
       "3     11/21/2023  1,108.60  1,103.60  1,113.69  1,102.33  128.42K    0.52%\n",
       "4     11/20/2023  1,102.85  1,091.66  1,114.63  1,085.74  172.46K   -0.06%\n",
       "...          ...       ...       ...       ...       ...      ...      ...\n",
       "2715  01/08/2013    525.36    512.41    525.36    511.64   32.89K    3.18%\n",
       "2716  01/07/2013    509.18    500.58    509.61    498.54   26.03K    2.18%\n",
       "2717  01/04/2013    498.31    489.71    499.85    487.95   20.15K    1.42%\n",
       "2718  01/03/2013    491.34    492.55    492.55    483.84   32.69K    0.11%\n",
       "2719  01/02/2013    490.82    486.41    492.29    485.37   22.64K    1.12%\n",
       "\n",
       "[2720 rows x 7 columns]"
      ]
     },
     "execution_count": 47,
     "metadata": {},
     "output_type": "execute_result"
    }
   ],
   "source": [
    "df"
   ]
  },
  {
   "cell_type": "code",
   "execution_count": 48,
   "id": "6d3a5276-f42c-474d-a023-67f907e45fe9",
   "metadata": {},
   "outputs": [],
   "source": [
    "df = df.drop('Vol.', axis=1)\n",
    "df = df.drop('Change %', axis=1)"
   ]
  },
  {
   "cell_type": "code",
   "execution_count": 49,
   "id": "07b427b9-f9ea-48e6-a740-83fafed444f9",
   "metadata": {},
   "outputs": [
    {
     "name": "stdout",
     "output_type": "stream",
     "text": [
      "Date     object\n",
      "Price    object\n",
      "Open     object\n",
      "High     object\n",
      "Low      object\n",
      "dtype: object\n"
     ]
    }
   ],
   "source": [
    "print(df.dtypes)"
   ]
  },
  {
   "cell_type": "code",
   "execution_count": 50,
   "id": "e34f9d9e-f909-4522-8e5c-b2448c7d4c7f",
   "metadata": {},
   "outputs": [],
   "source": [
    "df['Date'] = pd.to_datetime(df['Date'])"
   ]
  },
  {
   "cell_type": "code",
   "execution_count": 51,
   "id": "2868d5d9-e9ea-46ef-818a-37b753033e1f",
   "metadata": {},
   "outputs": [
    {
     "data": {
      "text/plain": [
       "720"
      ]
     },
     "execution_count": 51,
     "metadata": {},
     "output_type": "execute_result"
    }
   ],
   "source": [
    "engine = create_engine('postgresql://bd:bd@localhost:5432/historical')\n",
    "df.to_sql('vn30', engine, if_exists='replace')"
   ]
  },
  {
   "cell_type": "code",
   "execution_count": null,
   "id": "a0e3bb63-c124-45f1-9205-4cc4b9f122ee",
   "metadata": {},
   "outputs": [],
   "source": []
  }
 ],
 "metadata": {
  "kernelspec": {
   "display_name": "Python 3 (ipykernel)",
   "language": "python",
   "name": "python3"
  },
  "language_info": {
   "codemirror_mode": {
    "name": "ipython",
    "version": 3
   },
   "file_extension": ".py",
   "mimetype": "text/x-python",
   "name": "python",
   "nbconvert_exporter": "python",
   "pygments_lexer": "ipython3",
   "version": "3.10.12"
  }
 },
 "nbformat": 4,
 "nbformat_minor": 5
}
